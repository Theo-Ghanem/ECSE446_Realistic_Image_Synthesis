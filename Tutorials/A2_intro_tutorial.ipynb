{
 "nbformat": 4,
 "nbformat_minor": 0,
 "metadata": {
  "colab": {
   "provenance": []
  },
  "kernelspec": {
   "name": "python3",
   "display_name": "Python 3"
  },
  "language_info": {
   "name": "python"
  }
 },
 "cells": [
  {
   "cell_type": "code",
   "source": [
    "%pip install taichi"
   ],
   "metadata": {
    "colab": {
     "base_uri": "https://localhost:8080/"
    },
    "id": "1zY2ldinfvY1",
    "outputId": "a64984d8-180b-4618-f16d-4205c7bc91d4"
   },
   "execution_count": null,
   "outputs": [
    {
     "output_type": "stream",
     "name": "stdout",
     "text": [
      "Collecting taichi\n",
      "  Downloading taichi-1.7.2-cp310-cp310-manylinux_2_27_x86_64.whl.metadata (12 kB)\n",
      "Requirement already satisfied: numpy in /usr/local/lib/python3.10/dist-packages (from taichi) (1.26.4)\n",
      "Collecting colorama (from taichi)\n",
      "  Downloading colorama-0.4.6-py2.py3-none-any.whl.metadata (17 kB)\n",
      "Collecting dill (from taichi)\n",
      "  Downloading dill-0.3.8-py3-none-any.whl.metadata (10 kB)\n",
      "Requirement already satisfied: rich in /usr/local/lib/python3.10/dist-packages (from taichi) (13.8.1)\n",
      "Requirement already satisfied: markdown-it-py>=2.2.0 in /usr/local/lib/python3.10/dist-packages (from rich->taichi) (3.0.0)\n",
      "Requirement already satisfied: pygments<3.0.0,>=2.13.0 in /usr/local/lib/python3.10/dist-packages (from rich->taichi) (2.18.0)\n",
      "Requirement already satisfied: mdurl~=0.1 in /usr/local/lib/python3.10/dist-packages (from markdown-it-py>=2.2.0->rich->taichi) (0.1.2)\n",
      "Downloading taichi-1.7.2-cp310-cp310-manylinux_2_27_x86_64.whl (55.0 MB)\n",
      "\u001B[2K   \u001B[90m━━━━━━━━━━━━━━━━━━━━━━━━━━━━━━━━━━━━━━━━\u001B[0m \u001B[32m55.0/55.0 MB\u001B[0m \u001B[31m12.3 MB/s\u001B[0m eta \u001B[36m0:00:00\u001B[0m\n",
      "\u001B[?25hDownloading colorama-0.4.6-py2.py3-none-any.whl (25 kB)\n",
      "Downloading dill-0.3.8-py3-none-any.whl (116 kB)\n",
      "\u001B[2K   \u001B[90m━━━━━━━━━━━━━━━━━━━━━━━━━━━━━━━━━━━━━━━━\u001B[0m \u001B[32m116.3/116.3 kB\u001B[0m \u001B[31m7.4 MB/s\u001B[0m eta \u001B[36m0:00:00\u001B[0m\n",
      "\u001B[?25hInstalling collected packages: dill, colorama, taichi\n",
      "Successfully installed colorama-0.4.6 dill-0.3.8 taichi-1.7.2\n"
     ]
    }
   ]
  },
  {
   "cell_type": "code",
   "execution_count": null,
   "metadata": {
    "colab": {
     "base_uri": "https://localhost:8080/"
    },
    "id": "i-c3yDRqfclM",
    "outputId": "0404e637-1220-4845-9abc-90f9f049f198"
   },
   "outputs": [
    {
     "output_type": "stream",
     "name": "stdout",
     "text": [
      "[Taichi] version 1.7.2, llvm 15.0.4, commit 0131dce9, linux, python 3.10.12\n",
      "[Taichi] Starting on arch=x64\n"
     ]
    }
   ],
   "source": [
    "import taichi as ti\n",
    "import taichi.math as tm\n",
    "ti.init(arch=ti.cpu)"
   ]
  },
  {
   "cell_type": "markdown",
   "source": [
    "Typecasting inside func"
   ],
   "metadata": {
    "id": "na0XEs-hv7uA"
   }
  },
  {
   "cell_type": "markdown",
   "source": [
    "Here are a few examples for a very basic operation:\n",
    "\n",
    "We are given an integer x, and we want to add 0.5 to that integer (similar to centering pixels in A1)\n",
    "\n",
    "The issue is, x is an integer, so we need to convert the operation to floats"
   ],
   "metadata": {
    "id": "Wbi_bPfY1MFH"
   }
  },
  {
   "cell_type": "code",
   "source": [
    "@ti.func\n",
    "def simple_add_1(x: int) -> float:\n",
    "  x = x + 0.5\n",
    "  return float(x)\n",
    "\n",
    "@ti.kernel\n",
    "def k1() -> float:\n",
    "  x = simple_add_1(1)\n",
    "  return x\n",
    "\n",
    "print(k1())"
   ],
   "metadata": {
    "colab": {
     "base_uri": "https://localhost:8080/"
    },
    "id": "fEEh-mY4xq2e",
    "outputId": "5a398209-7ff4-4b3e-c6c2-3cca7febd754"
   },
   "execution_count": null,
   "outputs": [
    {
     "output_type": "stream",
     "name": "stdout",
     "text": [
      "1.0\n"
     ]
    }
   ]
  },
  {
   "cell_type": "markdown",
   "source": [
    "Issue #1: Storing x + 0.5 directly in x: x is an integer, so this operation will get cast into an int"
   ],
   "metadata": {
    "id": "jmqAeM5t1hN-"
   }
  },
  {
   "cell_type": "code",
   "source": [
    "@ti.func\n",
    "def simple_add_2(x: int) -> float:\n",
    "  x = float(x + 0.5)\n",
    "  return float(x)\n",
    "\n",
    "@ti.kernel\n",
    "def k2() -> float:\n",
    "  x = simple_add_2(1)\n",
    "  return x\n",
    "\n",
    "print(k2())"
   ],
   "metadata": {
    "colab": {
     "base_uri": "https://localhost:8080/"
    },
    "id": "pHSc7eCIyXT8",
    "outputId": "2b03277a-97cb-4f37-8c53-15929323c3c7"
   },
   "execution_count": null,
   "outputs": [
    {
     "output_type": "stream",
     "name": "stdout",
     "text": [
      "1.0\n"
     ]
    }
   ]
  },
  {
   "cell_type": "markdown",
   "source": [
    "Issue #2: Type casting the operation will NOT make x a float"
   ],
   "metadata": {
    "id": "9pc3rcCh1ppf"
   }
  },
  {
   "cell_type": "code",
   "source": [
    "@ti.func\n",
    "def simple_add_3(x: int) -> float:\n",
    "  x = float(x) + 0.5\n",
    "  return float(x)\n",
    "\n",
    "@ti.kernel\n",
    "def k3() -> float:\n",
    "  x = simple_add_3(1)\n",
    "  return x\n",
    "\n",
    "print(k3())"
   ],
   "metadata": {
    "colab": {
     "base_uri": "https://localhost:8080/"
    },
    "id": "QVXFL9_Byhmo",
    "outputId": "6a670b38-e532-4e99-e5fb-4a670f70e4fe"
   },
   "execution_count": null,
   "outputs": [
    {
     "output_type": "stream",
     "name": "stdout",
     "text": [
      "1.0\n"
     ]
    }
   ]
  },
  {
   "cell_type": "markdown",
   "source": [
    "Issue #3: Type casting x before the operation will make x a float"
   ],
   "metadata": {
    "id": "aa3HzbEb1wUz"
   }
  },
  {
   "cell_type": "code",
   "source": [
    "@ti.func\n",
    "def simple_add_4(x: int) -> float:\n",
    "  x = ti.cast(x + 0.5, ti.f32)\n",
    "  return float(x)\n",
    "\n",
    "@ti.kernel\n",
    "def k4() -> float:\n",
    "  x = simple_add_4(1)\n",
    "  return x\n",
    "\n",
    "print(k4())"
   ],
   "metadata": {
    "colab": {
     "base_uri": "https://localhost:8080/"
    },
    "id": "KchHpG8Dzxxq",
    "outputId": "83404046-4062-4fe1-ea95-2ffd0b1a2e68"
   },
   "execution_count": null,
   "outputs": [
    {
     "output_type": "stream",
     "name": "stdout",
     "text": [
      "1.0\n"
     ]
    }
   ]
  },
  {
   "cell_type": "markdown",
   "source": [
    "The same issue appears when you use the ti.cast function on the operation"
   ],
   "metadata": {
    "id": "3K_DLxpz1489"
   }
  },
  {
   "cell_type": "code",
   "source": [
    "@ti.func\n",
    "def simple_add_5(x: int) -> float:\n",
    "  x = ti.cast(x, ti.f32) + 0.5\n",
    "  return float(x)\n",
    "\n",
    "@ti.kernel\n",
    "def k5() -> float:\n",
    "  x = simple_add_5(1)\n",
    "  return x\n",
    "\n",
    "print(k5())"
   ],
   "metadata": {
    "colab": {
     "base_uri": "https://localhost:8080/"
    },
    "id": "jTwGqvO7z_lo",
    "outputId": "3e509ee7-99b6-4ead-ba61-3b9dd5a4574c"
   },
   "execution_count": null,
   "outputs": [
    {
     "output_type": "stream",
     "name": "stdout",
     "text": [
      "1.0\n"
     ]
    }
   ]
  },
  {
   "cell_type": "markdown",
   "source": [
    "As well as x itself. X WILL NOT CHANGE TYPES"
   ],
   "metadata": {
    "id": "GHcmeM322BPc"
   }
  },
  {
   "cell_type": "code",
   "source": [
    "@ti.func\n",
    "def simple_add_6(x: int) -> float:\n",
    "  return x + 0.5\n",
    "\n",
    "@ti.kernel\n",
    "def k6() -> float:\n",
    "  x = simple_add_6(1)\n",
    "  return x\n",
    "\n",
    "print(k6())"
   ],
   "metadata": {
    "colab": {
     "base_uri": "https://localhost:8080/"
    },
    "id": "-Mn8C9Oiyqkg",
    "outputId": "551b2e26-48e0-461a-cb33-ef087e48dfcb"
   },
   "execution_count": null,
   "outputs": [
    {
     "output_type": "stream",
     "name": "stdout",
     "text": [
      "1.5\n"
     ]
    }
   ]
  },
  {
   "cell_type": "markdown",
   "source": [
    "Solution #1: Return directly x + 0.5. Returns create new variables and do not change the type of x"
   ],
   "metadata": {
    "id": "mOFDWuXe2HNx"
   }
  },
  {
   "cell_type": "code",
   "source": [
    "@ti.func\n",
    "def simple_add_7(x: int) -> float:\n",
    "  return float(x) + 0.5\n",
    "\n",
    "@ti.kernel\n",
    "def k7() -> float:\n",
    "  x = simple_add_7(1)\n",
    "  return x\n",
    "\n",
    "print(k7())"
   ],
   "metadata": {
    "colab": {
     "base_uri": "https://localhost:8080/"
    },
    "id": "E42Rb_LLyzW8",
    "outputId": "3760f676-7676-4787-ec1c-dcaa5a094776"
   },
   "execution_count": null,
   "outputs": [
    {
     "output_type": "stream",
     "name": "stdout",
     "text": [
      "1.5\n"
     ]
    }
   ]
  },
  {
   "cell_type": "markdown",
   "source": [
    "Type casting or not, this will work"
   ],
   "metadata": {
    "id": "d4CQABc62TD6"
   }
  },
  {
   "cell_type": "code",
   "source": [
    "@ti.func\n",
    "def simple_add_8(x: int) -> float:\n",
    "  y = x + 0.5\n",
    "  return y\n",
    "\n",
    "@ti.kernel\n",
    "def k8() -> float:\n",
    "  x = simple_add_8(1)\n",
    "  return x\n",
    "\n",
    "print(k8())"
   ],
   "metadata": {
    "colab": {
     "base_uri": "https://localhost:8080/"
    },
    "id": "twG_WAFIzNw9",
    "outputId": "9a6b4ae5-8218-453f-e3ec-54cc1bd0b96f"
   },
   "execution_count": null,
   "outputs": [
    {
     "output_type": "stream",
     "name": "stdout",
     "text": [
      "1.5\n"
     ]
    }
   ]
  },
  {
   "cell_type": "markdown",
   "source": [
    "Storing the intermediary result in a variable will cast that variable into a float, but not x"
   ],
   "metadata": {
    "id": "LazIhVld2Xnw"
   }
  },
  {
   "cell_type": "markdown",
   "source": [
    "More reading about Taichi's type system: https://docs.taichi-lang.org/docs/type"
   ],
   "metadata": {
    "id": "r8XjDcQq_clG"
   }
  },
  {
   "cell_type": "markdown",
   "source": [
    "## Progressive Renderer\n",
    "\n",
    "The deliverable you will implement for A2 is progressive rendering, with jittered pixels"
   ],
   "metadata": {
    "id": "GMBe18dZiUO5"
   }
  },
  {
   "cell_type": "code",
   "source": [
    "numbers = [0, 1, 2, 3, 4, 5, 6, 7, 8, 9, 10]\n",
    "\n",
    "\n",
    "# Simple mean\n",
    "total = 0\n",
    "count = 0\n",
    "\n",
    "for n in numbers:\n",
    "  total += n\n",
    "  count += 1\n",
    "\n",
    "simple_mean = total / count\n",
    "print(simple_mean)"
   ],
   "metadata": {
    "colab": {
     "base_uri": "https://localhost:8080/"
    },
    "id": "wnXHK-WhiTJC",
    "outputId": "7b245d76-6ede-4f00-ad44-2d324dba4546"
   },
   "execution_count": null,
   "outputs": [
    {
     "output_type": "stream",
     "name": "stdout",
     "text": [
      "5.0\n"
     ]
    }
   ]
  },
  {
   "cell_type": "markdown",
   "source": [
    "In the case of our progressive renderer, we don't know beforehand how many total samples we will get, and we want to see the render as we go"
   ],
   "metadata": {
    "id": "TPZKQqwRi-OH"
   }
  },
  {
   "cell_type": "code",
   "source": [
    "numbers = [0, 1, 2, 3, 4, 5, 6, 7, 8, 9, 10]\n",
    "\n",
    "\n",
    "# Progressive Average\n",
    "prog_average = 0\n",
    "count = 0\n",
    "\n",
    "for n in numbers:\n",
    "  count += 1\n",
    "  prog_average += (n - prog_average)/count\n",
    "  # prog_average = prog_average + (n - prog_average)/count\n",
    "  # prog_average = prog_average + (n/count - prog_average/count)\n",
    "  # prog_average = prog_average(count-1)/count + n/count\n",
    "\n",
    "print(prog_average)"
   ],
   "metadata": {
    "colab": {
     "base_uri": "https://localhost:8080/"
    },
    "id": "y5ZtdbrbjKOc",
    "outputId": "4c80b3d8-d1b8-4d1d-c924-a95fb3435bac"
   },
   "execution_count": null,
   "outputs": [
    {
     "output_type": "stream",
     "name": "stdout",
     "text": [
      "5.0\n"
     ]
    }
   ]
  },
  {
   "cell_type": "markdown",
   "source": [
    "Taichi example\n"
   ],
   "metadata": {
    "id": "7qWSgtMRkAsG"
   }
  },
  {
   "cell_type": "code",
   "source": [
    "SPP = 10000 # Sample Per Pixel -> number of frames\n",
    "width = 5\n",
    "height = 5\n",
    "result = ti.Vector.field(n=1, dtype=float, shape=(width, height)) # 5x5 matrix\n",
    "iter_counter = ti.field(dtype=float, shape=())\n",
    "\n",
    "\n",
    "@ti.kernel\n",
    "def progressive_average():\n",
    "  # initialize a field\n",
    "  iter_counter[None] += 1\n",
    "  for x, y in ti.ndrange(width, height):\n",
    "    # random value between [0, 1)\n",
    "    val = ti.random() # In assignment, this will be shade_ray()\n",
    "    result[x, y] += (val - result[x, y])/iter_counter[None]\n",
    "\n",
    "for _ in range(SPP):\n",
    "  progressive_average() # Should be around 0.5\n",
    "print(result)"
   ],
   "metadata": {
    "colab": {
     "base_uri": "https://localhost:8080/"
    },
    "id": "IieSygFCkeVW",
    "outputId": "7f363aaf-8ee0-441a-c1df-1889c5f57d02"
   },
   "execution_count": null,
   "outputs": [
    {
     "output_type": "stream",
     "name": "stdout",
     "text": [
      "[[[0.49900803]\n",
      "  [0.5019654 ]\n",
      "  [0.49992505]\n",
      "  [0.4973632 ]\n",
      "  [0.5033504 ]]\n",
      "\n",
      " [[0.50227475]\n",
      "  [0.5025625 ]\n",
      "  [0.49757576]\n",
      "  [0.4931165 ]\n",
      "  [0.49974763]]\n",
      "\n",
      " [[0.49791467]\n",
      "  [0.503105  ]\n",
      "  [0.50440973]\n",
      "  [0.4962891 ]\n",
      "  [0.5032933 ]]\n",
      "\n",
      " [[0.49837023]\n",
      "  [0.5021516 ]\n",
      "  [0.4987427 ]\n",
      "  [0.4964096 ]\n",
      "  [0.49995744]]\n",
      "\n",
      " [[0.5018112 ]\n",
      "  [0.50390214]\n",
      "  [0.5018027 ]\n",
      "  [0.49953791]\n",
      "  [0.49509612]]]\n"
     ]
    }
   ]
  },
  {
   "cell_type": "code",
   "source": [
    "result.fill(0.)\n",
    "iter_counter.fill(0.)\n",
    "print(result)"
   ],
   "metadata": {
    "colab": {
     "base_uri": "https://localhost:8080/"
    },
    "id": "xFWQorn8nNyA",
    "outputId": "23f493a6-7c6c-485e-91f3-6d0a1453b22b"
   },
   "execution_count": null,
   "outputs": [
    {
     "output_type": "stream",
     "name": "stdout",
     "text": [
      "[[[0.]\n",
      "  [0.]\n",
      "  [0.]\n",
      "  [0.]\n",
      "  [0.]]\n",
      "\n",
      " [[0.]\n",
      "  [0.]\n",
      "  [0.]\n",
      "  [0.]\n",
      "  [0.]]\n",
      "\n",
      " [[0.]\n",
      "  [0.]\n",
      "  [0.]\n",
      "  [0.]\n",
      "  [0.]]\n",
      "\n",
      " [[0.]\n",
      "  [0.]\n",
      "  [0.]\n",
      "  [0.]\n",
      "  [0.]]\n",
      "\n",
      " [[0.]\n",
      "  [0.]\n",
      "  [0.]\n",
      "  [0.]\n",
      "  [0.]]]\n"
     ]
    }
   ]
  },
  {
   "cell_type": "markdown",
   "source": [
    "## Constructing an Orthonormal Basis"
   ],
   "metadata": {
    "id": "ly5ZifFro9Ej"
   }
  },
  {
   "cell_type": "code",
   "source": [
    "@ti.kernel\n",
    "def orthonormal_basis(axis_of_alignment:tm.vec3) -> tm.mat3:\n",
    "\n",
    "  random_vec = tm.normalize(tm.vec3([ti.random(), ti.random(), ti.random()]))\n",
    "\n",
    "  x_axis = tm.cross(axis_of_alignment, random_vec)\n",
    "  x_axis = tm.normalize(x_axis)\n",
    "\n",
    "  y_axis = tm.cross(x_axis, axis_of_alignment)\n",
    "  y_axis = tm.normalize(y_axis)\n",
    "\n",
    "\n",
    "  ortho_frames = tm.mat3([x_axis, y_axis, axis_of_alignment]).transpose()\n",
    "\n",
    "  return ortho_frames\n",
    "\n",
    "axis_of_alignment = tm.vec3([0.0, -1.0, 0.0])\n",
    "ortho = orthonormal_basis(axis_of_alignment)"
   ],
   "metadata": {
    "id": "Hcx7JYVSpyIm"
   },
   "execution_count": null,
   "outputs": []
  },
  {
   "cell_type": "code",
   "source": [
    "w = tm.vec3([0.0, 0.0, -1.0])\n",
    "w = ortho @ w\n",
    "print(w)"
   ],
   "metadata": {
    "colab": {
     "base_uri": "https://localhost:8080/"
    },
    "id": "_zxKxipNs6yK",
    "outputId": "e4e999cb-4c4d-47e0-b6a0-3528fb8468dc"
   },
   "execution_count": null,
   "outputs": [
    {
     "output_type": "stream",
     "name": "stdout",
     "text": [
      "[0. 1. 0.]\n"
     ]
    }
   ]
  },
  {
   "cell_type": "markdown",
   "source": [
    "Recall orthonormal basis properties:\n",
    "\n",
    "Given an Orthonormal Transformation Matrix M:\n",
    "\n",
    "M M^T = I\n",
    "\n",
    "M^T = M^(-1)\n",
    "\n",
    "The transpose of M is also its inverse"
   ],
   "metadata": {
    "id": "dJmY2xIXtnXD"
   }
  },
  {
   "cell_type": "code",
   "source": [
    "w = ortho.transpose() @ w\n",
    "print(w)"
   ],
   "metadata": {
    "colab": {
     "base_uri": "https://localhost:8080/"
    },
    "id": "573NJNEluDC0",
    "outputId": "be5d2afa-8ab3-4fb2-fc47-7a5e618734e0"
   },
   "execution_count": null,
   "outputs": [
    {
     "output_type": "stream",
     "name": "stdout",
     "text": [
      "[ 0.  0. -1.]\n"
     ]
    }
   ]
  }
 ]
}
