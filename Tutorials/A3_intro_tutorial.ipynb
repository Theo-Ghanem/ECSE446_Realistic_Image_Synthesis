{
  "cells": [
    {
      "cell_type": "code",
      "execution_count": 1,
      "metadata": {},
      "outputs": [
        {
          "name": "stdout",
          "output_type": "stream",
          "text": [
            "[Taichi] version 1.7.1, llvm 15.0.4, commit 0f143b2f, linux, python 3.10.14\n"
          ]
        },
        {
          "name": "stderr",
          "output_type": "stream",
          "text": [
            "[I 10/25/24 09:03:43.140 8566] [shell.py:_shell_pop_print@23] Graphical python shell detected, using wrapped sys.stdout\n"
          ]
        },
        {
          "name": "stdout",
          "output_type": "stream",
          "text": [
            "[Taichi] Starting on arch=vulkan\n"
          ]
        }
      ],
      "source": [
        "import taichi as ti\n",
        "import taichi.math as tm\n",
        "\n",
        "import numpy as np\n",
        "\n",
        "# running on vulkan for testing purposes, behaves the same on any optimized architecture\n",
        "# ** except CPU ***\n",
        "ti.init(arch=ti.vulkan)"
      ]
    },
    {
      "cell_type": "markdown",
      "metadata": {},
      "source": [
        "## Probabilties & Serialized Loops"
      ]
    },
    {
      "cell_type": "markdown",
      "metadata": {},
      "source": [
        "### Creating a CDF"
      ]
    },
    {
      "cell_type": "code",
      "execution_count": 2,
      "metadata": {},
      "outputs": [
        {
          "name": "stdout",
          "output_type": "stream",
          "text": [
            "[ 2.  3.  4.  2.  3.  6.  7. 10.  3.  2.  7.  2.  4.  5.]\n"
          ]
        }
      ],
      "source": [
        "# given areas of triangles\n",
        "areas = np.asarray([2, 3, 4, 2, 3, 6, 7, 10, 3, 2, 7, 2, 4, 5])\n",
        "\n",
        "\n",
        "#  put them in a field\n",
        "areas_field = ti.field(dtype=float, shape=(areas.shape[0]))\n",
        "areas_field.from_numpy(areas)\n",
        "\n",
        "print(areas_field)"
      ]
    },
    {
      "cell_type": "code",
      "execution_count": 3,
      "metadata": {},
      "outputs": [],
      "source": [
        "areas_cdf = ti.field(dtype=float, shape=(areas.shape[0]))\n",
        "\n",
        "areas_cdf_serialized = ti.field(dtype=float, shape=(areas.shape[0]))"
      ]
    },
    {
      "cell_type": "code",
      "execution_count": 4,
      "metadata": {},
      "outputs": [
        {
          "name": "stdout",
          "output_type": "stream",
          "text": [
            "[0. 0. 0. 0. 0. 0. 0. 0. 0. 0. 0. 0. 0. 0.]\n",
            "[1. 1. 1. 1. 1. 1. 1. 1. 1. 1. 1. 1. 1. 1.]\n",
            "========================\n",
            "[0. 0. 0. 0. 0. 0. 0. 0. 0. 0. 0. 0. 0. 0.]\n",
            "[0.03333334 0.08333334 0.15       0.18333334 0.23333335 0.33333334\n",
            " 0.45000002 0.6166667  0.6666667  0.70000005 0.8166667  0.85\n",
            " 0.9166667  1.        ]\n"
          ]
        }
      ],
      "source": [
        "@ti.kernel\n",
        "def compute_cdf():\n",
        "    num = 0.\n",
        "    for i in ti.ndrange(areas.shape[0]):\n",
        "        num += areas_field[i]\n",
        "        areas_cdf[i] = num\n",
        "    \n",
        "    # normalize\n",
        "    for i in ti.ndrange(areas.shape[0]):\n",
        "        areas_cdf[i] /= num\n",
        "\n",
        "\n",
        "@ti.kernel\n",
        "def compute_cdf_serialized():\n",
        "    num = 0.\n",
        "    ti.loop_config(serialize=True)\n",
        "    for i in ti.ndrange(areas.shape[0]):\n",
        "        num += areas_field[i]\n",
        "        areas_cdf_serialized[i] = num\n",
        "    \n",
        "    # normalize\n",
        "    # Question: Do we need to serialize this loop?\n",
        "    for i in ti.ndrange(areas.shape[0]):\n",
        "        areas_cdf_serialized[i] /= num\n",
        "\n",
        "print(areas_cdf)\n",
        "compute_cdf()\n",
        "print(areas_cdf)\n",
        "\n",
        "print(\"========================\")\n",
        "\n",
        "print(areas_cdf_serialized)\n",
        "compute_cdf_serialized()\n",
        "print(areas_cdf_serialized)"
      ]
    },
    {
      "cell_type": "markdown",
      "metadata": {},
      "source": [
        "When running taichi on an optimized architecture (cuda, metal, vulkan, etc...) forloop are unpredictable. They get highly optimizied and dispatched in multiple thread, and are NOT guaranteed to run in parallel (in fact, they never will).\n",
        "\n",
        "\n",
        "Using the ti.loop_config(serialized=True) will force the order of execution (but obviously slower)"
      ]
    },
    {
      "cell_type": "markdown",
      "metadata": {},
      "source": [
        "### Sampling a CDF"
      ]
    },
    {
      "cell_type": "code",
      "execution_count": 5,
      "metadata": {},
      "outputs": [
        {
          "name": "stdout",
          "output_type": "stream",
          "text": [
            "[10. 10. 10.]\n"
          ]
        }
      ],
      "source": [
        "\n",
        "@ti.kernel\n",
        "def sample_cdf() -> tm.vec3:\n",
        "    u = ti.random()\n",
        "\n",
        "    return tm.vec3([sample_cdf_loop(u), sample_cdf_loop_parallel(u), sample_cdf_binary(u)])\n",
        "\n",
        "\n",
        "@ti.func\n",
        "def sample_cdf_loop(u:float) -> float:\n",
        "    k = 0\n",
        "    ti.loop_config(serialize=True)\n",
        "    for i in ti.ndrange(areas.shape[0]- 1):\n",
        "        if areas_cdf_serialized[i] >= u:\n",
        "            k = i\n",
        "            break\n",
        "    return k\n",
        "\n",
        "@ti.func\n",
        "def sample_cdf_loop_parallel(u:float) -> float:\n",
        "    k = 0\n",
        "    # ti.loop_config(serialize=True)\n",
        "    for i in ti.ndrange(areas.shape[0]- 1):\n",
        "        if areas_cdf_serialized[i] < u and areas_cdf_serialized[i+1] >= u:\n",
        "            k = i+1\n",
        "    return k\n",
        "        \n",
        "\n",
        "\n",
        "@ti.func\n",
        "def sample_cdf_binary(u) -> float:\n",
        "\n",
        "    left = 0\n",
        "    right = areas.shape[0]-1\n",
        "\n",
        "    while left < right:\n",
        "        mid = (left + right) // 2\n",
        "        if areas_cdf_serialized[mid] < u:\n",
        "            left = mid + 1\n",
        "        else:\n",
        "            right = mid\n",
        "    return left\n",
        "\n",
        "\n",
        "print(sample_cdf())"
      ]
    }
  ],
  "metadata": {
    "colab": {
      "provenance": []
    },
    "kernelspec": {
      "display_name": "taichi_env",
      "language": "python",
      "name": "python3"
    },
    "language_info": {
      "codemirror_mode": {
        "name": "ipython",
        "version": 3
      },
      "file_extension": ".py",
      "mimetype": "text/x-python",
      "name": "python",
      "nbconvert_exporter": "python",
      "pygments_lexer": "ipython3",
      "version": "3.10.14"
    }
  },
  "nbformat": 4,
  "nbformat_minor": 0
}
