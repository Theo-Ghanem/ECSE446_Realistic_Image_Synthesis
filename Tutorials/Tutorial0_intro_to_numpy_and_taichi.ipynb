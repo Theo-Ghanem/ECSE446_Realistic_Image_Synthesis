{
  "cells": [
    {
      "cell_type": "markdown",
      "metadata": {
        "id": "F7g_0JNuXOQw"
      },
      "source": [
        "\n",
        "# **ECSE 446/546 Tutorial 0**"
      ]
    },
    {
      "cell_type": "markdown",
      "metadata": {
        "id": "BWZZ0hiwFm6K"
      },
      "source": [
        "# Part 1: Basics"
      ]
    },
    {
      "cell_type": "markdown",
      "metadata": {
        "id": "LvnIkY8oLLdK"
      },
      "source": [
        "## Section 1: Python lists"
      ]
    },
    {
      "cell_type": "code",
      "execution_count": 2,
      "metadata": {
        "colab": {
          "base_uri": "https://localhost:8080/"
        },
        "id": "UPXRn7UyFcNk",
        "outputId": "e1831000-b1b9-4476-e991-6dee2247f1a3"
      },
      "outputs": [
        {
          "name": "stdout",
          "output_type": "stream",
          "text": [
            "numbers list        :  [1, 2, 3, 4, 5]\n",
            "number at index 0   :  1\n",
            "number at last index:  5\n"
          ]
        }
      ],
      "source": [
        "# Python provides a way to store things in a list\n",
        "\n",
        "numbers = [1, 2, 3, 4, 5]\n",
        "print(\"numbers list        : \", numbers)\n",
        "print(\"number at index 0   : \", numbers[0])\n",
        "print(\"number at last index: \", numbers[-1])"
      ]
    },
    {
      "cell_type": "code",
      "execution_count": 3,
      "metadata": {
        "colab": {
          "base_uri": "https://localhost:8080/"
        },
        "id": "Fr6ah31kLpwR",
        "outputId": "c712a8d5-fdcf-4492-e702-453b6958bc1a"
      },
      "outputs": [
        {
          "name": "stdout",
          "output_type": "stream",
          "text": [
            "numbers after appending:  [1, 2, 3, 4, 5, 6]\n",
            "numbers after popping  :  [1, 2, 3, 4, 5]\n",
            "popped element         :  6\n"
          ]
        }
      ],
      "source": [
        "# Python also provides basic things like adding or removing elements\n",
        "\n",
        "numbers.append(6)\n",
        "print(\"numbers after appending: \",numbers)\n",
        "\n",
        "popped_number = numbers.pop()\n",
        "print(\"numbers after popping  : \",numbers)\n",
        "print(\"popped element         : \",popped_number)"
      ]
    },
    {
      "cell_type": "code",
      "execution_count": 4,
      "metadata": {
        "colab": {
          "base_uri": "https://localhost:8080/"
        },
        "id": "NtntrnJlL6ZY",
        "outputId": "6b592c9b-0be5-4069-cefc-fc42498ff88c"
      },
      "outputs": [
        {
          "name": "stdout",
          "output_type": "stream",
          "text": [
            "numbers       : [1, 2, 3, 4, 5]\n",
            "numbers [1:3] : [2, 3]\n",
            "numbers [1:]  : [2, 3, 4, 5]\n",
            "numbers [:3]  : [1, 2, 3]\n",
            "numbers [:-1] : [1, 2, 3, 4]\n",
            "numbers [-2:] : [4, 5]\n"
          ]
        }
      ],
      "source": [
        "# Finally, you can easily get sections of lists using list slicing\n",
        "\n",
        "print(\"numbers       :\",numbers)\n",
        "print(\"numbers [1:3] :\",numbers[1:3])\n",
        "print(\"numbers [1:]  :\",numbers[1:])\n",
        "print(\"numbers [:3]  :\",numbers[:3])\n",
        "print(\"numbers [:-1] :\",numbers[:-1])\n",
        "print(\"numbers [-2:] :\",numbers[-2:])"
      ]
    },
    {
      "cell_type": "markdown",
      "metadata": {
        "id": "drE6kujCLjHp"
      },
      "source": [
        "Biggest issue: no built-in way to perform math on a list. By default, it would require messy looping."
      ]
    },
    {
      "cell_type": "markdown",
      "metadata": {
        "id": "m1LksacwMWro"
      },
      "source": [
        "## Section 2: Numpy\n",
        "\n",
        "Numpy is a high performance python library that supports multi-dimensional arrays and many, many math operations.\n",
        "\n",
        "More info: https://numpy.org/doc/stable/"
      ]
    },
    {
      "cell_type": "markdown",
      "metadata": {
        "id": "TKwAJVoEYKjz"
      },
      "source": [
        "### Initialization and shapes"
      ]
    },
    {
      "cell_type": "code",
      "execution_count": 5,
      "metadata": {
        "id": "smaBsYk2Mnsc"
      },
      "outputs": [],
      "source": [
        "import numpy as np"
      ]
    },
    {
      "cell_type": "code",
      "execution_count": 8,
      "metadata": {
        "colab": {
          "base_uri": "https://localhost:8080/"
        },
        "id": "IdcZbwTQMpJj",
        "outputId": "e3e3751e-aaab-44ca-f28c-d478cdcf6e08"
      },
      "outputs": [
        {
          "name": "stdout",
          "output_type": "stream",
          "text": [
            "numbers : [1 2 3 4 5]\n",
            "numbers : [1 2 3 4 5]\n"
          ]
        }
      ],
      "source": [
        "# You can manually initialize a numpy array\n",
        "numbers = np.array([1, 2, 3, 4, 5])\n",
        "\n",
        "print(\"numbers :\", numbers)\n",
        "\n",
        "# Or convert an existing list into a numpy array\n",
        "numbers = [1, 2, 3, 4, 5]\n",
        "numbers = np.asarray(numbers)\n",
        "\n",
        "print(\"numbers :\", numbers)"
      ]
    },
    {
      "cell_type": "code",
      "execution_count": 9,
      "metadata": {
        "colab": {
          "base_uri": "https://localhost:8080/"
        },
        "id": "V5AxzYZHM8xE",
        "outputId": "bce0cbd3-cc65-454b-e8a3-5addf46d5e57"
      },
      "outputs": [
        {
          "name": "stdout",
          "output_type": "stream",
          "text": [
            "numbers shape:  (5,)\n",
            "two_d_numbers : \n",
            " [[1 2 3]\n",
            " [4 5 6]]\n",
            "two_d_numbers shape: (2, 3)\n"
          ]
        }
      ],
      "source": [
        "# .shape attribute allows you to know the shape of the array\n",
        "print(\"numbers shape: \", numbers.shape)\n",
        "\n",
        "two_d_numbers = np.array([[1, 2, 3], [4, 5, 6]])\n",
        "\n",
        "print(\"two_d_numbers : \\n\", two_d_numbers)\n",
        "print(\"two_d_numbers shape:\", two_d_numbers.shape)"
      ]
    },
    {
      "cell_type": "code",
      "execution_count": 10,
      "metadata": {
        "colab": {
          "base_uri": "https://localhost:8080/"
        },
        "id": "lm6NEl2pNP_2",
        "outputId": "306049c6-afcf-4eca-afb4-4588a6a6f524"
      },
      "outputs": [
        {
          "name": "stdout",
          "output_type": "stream",
          "text": [
            "two_d_zeros: \n",
            " [[0. 0. 0.]\n",
            " [0. 0. 0.]]\n",
            "two_d_ones: \n",
            " [[1. 1. 1.]\n",
            " [1. 1. 1.]]\n",
            "two_d_five: \n",
            " [[5 5 5]\n",
            " [5 5 5]]\n",
            "two_d_random: \n",
            " [[0.00161342 0.95769618 0.24973735]\n",
            " [0.32920368 0.62377358 0.62204351]]\n",
            "two_d_random_2: \n",
            " [[0.54223625 0.89298903 0.84635117]\n",
            " [0.59258671 0.75462732 0.80739442]]\n"
          ]
        }
      ],
      "source": [
        "# Arrays can be initialized in many ways\n",
        "\n",
        "two_d_zeros = np.zeros((2, 3)) # initialized with all 0s\n",
        "two_d_ones = np.ones((2, 3)) # initialized with all 1s\n",
        "two_d_five = np.full((2, 3), 5) # initialized with all 5s\n",
        "two_d_random = np.random.random((2, 3)) # initialized with uniform random values\n",
        "\n",
        "print(\"two_d_zeros: \\n\", two_d_zeros)\n",
        "print(\"two_d_ones: \\n\", two_d_ones)\n",
        "print(\"two_d_five: \\n\", two_d_five)\n",
        "print(\"two_d_random: \\n\", two_d_random)\n",
        "\n",
        "# You can also use a different array's shape for initialization\n",
        "\n",
        "two_d_random_2 = np.random.random(two_d_numbers.shape)\n",
        "print(\"two_d_random_2: \\n\", two_d_random_2)"
      ]
    },
    {
      "cell_type": "code",
      "execution_count": 11,
      "metadata": {
        "colab": {
          "base_uri": "https://localhost:8080/"
        },
        "id": "bUMwJsowOQKP",
        "outputId": "3e71ef13-2053-40dc-8b55-5f03d057692e"
      },
      "outputs": [
        {
          "name": "stdout",
          "output_type": "stream",
          "text": [
            "digits: \n",
            " [0 1 2 3 4 5 6 7 8 9]\n",
            "digits reshape: \n",
            " [[0 1]\n",
            " [2 3]\n",
            " [4 5]\n",
            " [6 7]\n",
            " [8 9]]\n"
          ]
        }
      ],
      "source": [
        "# Array shape can be changed after initialization\n",
        "\n",
        "digits = np.arange(0, 10)\n",
        "print(\"digits: \\n\", digits)\n",
        "digits_r = digits.reshape(5, 2)\n",
        "print(\"digits reshape: \\n\", digits_r)"
      ]
    },
    {
      "cell_type": "code",
      "execution_count": 12,
      "metadata": {
        "colab": {
          "base_uri": "https://localhost:8080/"
        },
        "id": "TSDEtYUQO4hm",
        "outputId": "01dff857-d90f-464d-c975-7fa1e91d85e8"
      },
      "outputs": [
        {
          "name": "stdout",
          "output_type": "stream",
          "text": [
            "original: \n",
            " [[0 1]\n",
            " [2 3]\n",
            " [4 5]\n",
            " [6 7]\n",
            " [8 9]]\n",
            "transpose :\n",
            " [[0 2 4 6 8]\n",
            " [1 3 5 7 9]]\n",
            "transpose shape : (2, 5)\n"
          ]
        }
      ],
      "source": [
        "# .T gives you the Transpose of an array\n",
        "\n",
        "print(\"original: \\n\", digits_r)\n",
        "print(\"transpose :\\n\", digits_r.T)\n",
        "\n",
        "print(\"transpose shape :\",digits_r.T.shape)"
      ]
    },
    {
      "cell_type": "code",
      "execution_count": 13,
      "metadata": {
        "colab": {
          "base_uri": "https://localhost:8080/"
        },
        "id": "UKzfMU66Oa5N",
        "outputId": "82a872ce-1359-4e4d-893c-1e61f0f28269"
      },
      "outputs": [
        {
          "name": "stdout",
          "output_type": "stream",
          "text": [
            "numbers : \n",
            " [[ 1  2  3]\n",
            " [ 4  5  6]\n",
            " [ 7  8  9]\n",
            " [10 11 12]]\n",
            "numbers [1:3] : \n",
            " [[4 5 6]\n",
            " [7 8 9]]\n",
            "numbers [1:3, 1:3]: \n",
            " [[5 6]\n",
            " [8 9]]\n",
            "numbers [1:3, :] : \n",
            " [[4 5 6]\n",
            " [7 8 9]]\n",
            "numbers [:, -2:] : \n",
            " [[ 2  3]\n",
            " [ 5  6]\n",
            " [ 8  9]\n",
            " [11 12]]\n"
          ]
        }
      ],
      "source": [
        "# Numpy arrays can be sliced just like python lists\n",
        "\n",
        "numbers = np.array([[1, 2, 3], [4, 5, 6], [7, 8, 9], [10, 11, 12]])\n",
        "\n",
        "print(\"numbers : \\n\", numbers)\n",
        "\n",
        "print(\"numbers [1:3] : \\n\",numbers[1:3])\n",
        "print(\"numbers [1:3, 1:3]: \\n\",numbers[1:3, 1:3])\n",
        "print(\"numbers [1:3, :] : \\n\",numbers[1:3, :])\n",
        "print(\"numbers [:, -2:] : \\n\",numbers[:, -2:])"
      ]
    },
    {
      "cell_type": "code",
      "execution_count": 14,
      "metadata": {
        "colab": {
          "base_uri": "https://localhost:8080/"
        },
        "id": "X6ParUDUOk6c",
        "outputId": "32f5bb93-17d1-4a83-9abe-ed9bf476d3a4"
      },
      "outputs": [
        {
          "name": "stdout",
          "output_type": "stream",
          "text": [
            "numbers : \n",
            " [[ 1  2  3]\n",
            " [ 4  5  6]\n",
            " [ 7  8  9]\n",
            " [10 11 12]]\n",
            "temp : \n",
            " [[5 6]\n",
            " [8 9]]\n",
            "temp : \n",
            " [[-33 -44]\n",
            " [-55 -66]]\n",
            "numbers : \n",
            " [[  1   2   3]\n",
            " [  4 -33 -44]\n",
            " [  7 -55 -66]\n",
            " [ 10  11  12]]\n"
          ]
        }
      ],
      "source": [
        "# Slices DO NOT COPY the data of the original array\n",
        "# Modifying the slice will modify the original array\n",
        "\n",
        "print(\"numbers : \\n\", numbers)\n",
        "\n",
        "temp = numbers[1:3, 1:3]\n",
        "\n",
        "print(\"temp : \\n\",temp)\n",
        "\n",
        "temp[0, 0] = -33\n",
        "temp[0, 1] = -44\n",
        "temp[1, 0] = -55\n",
        "temp[1, 1] = -66\n",
        "\n",
        "print(\"temp : \\n\",temp)\n",
        "print(\"numbers : \\n\",numbers)"
      ]
    },
    {
      "cell_type": "markdown",
      "metadata": {
        "id": "vLma2lzyYSZe"
      },
      "source": [
        "### Datatypes"
      ]
    },
    {
      "cell_type": "code",
      "execution_count": 15,
      "metadata": {
        "colab": {
          "base_uri": "https://localhost:8080/"
        },
        "id": "CM6topo7Yii4",
        "outputId": "89a3f54a-0878-47c6-e21e-5ca172fb2e37"
      },
      "outputs": [
        {
          "name": "stdout",
          "output_type": "stream",
          "text": [
            "x type:  int64\n",
            "y type:  float64\n",
            "z type:  int64\n"
          ]
        }
      ],
      "source": [
        "x = np.array([1, 2])  # Let numpy choose the datatype\n",
        "y = np.array([1.0, 2.0])  # Let numpy choose the datatype\n",
        "z = np.array([1, 2], dtype=np.int64)  # Force a particular datatype\n",
        "\n",
        "print(\"x type: \", x.dtype)\n",
        "print(\"y type: \", y.dtype)\n",
        "print(\"z type: \", z.dtype)"
      ]
    },
    {
      "cell_type": "markdown",
      "metadata": {
        "id": "j5vIInwZYjXU"
      },
      "source": [
        "### Math operations\n",
        "\n",
        "Numpy allows us to easily perform math operations on its arrays."
      ]
    },
    {
      "cell_type": "code",
      "execution_count": 16,
      "metadata": {
        "colab": {
          "base_uri": "https://localhost:8080/"
        },
        "id": "mAHSALjLYtdB",
        "outputId": "25edf3ba-4e4b-42e4-84d1-d2cc2fc729df"
      },
      "outputs": [
        {
          "name": "stdout",
          "output_type": "stream",
          "text": [
            "[[1 2 3]\n",
            " [4 5 6]]\n",
            "[[ 7  8  9]\n",
            " [10 11 12]]\n"
          ]
        }
      ],
      "source": [
        "x = np.array([[1, 2, 3], [4, 5, 6]])\n",
        "\n",
        "y = np.array([[7, 8, 9], [10, 11, 12]])\n",
        "\n",
        "print(x)\n",
        "print(y)"
      ]
    },
    {
      "cell_type": "code",
      "execution_count": 17,
      "metadata": {
        "colab": {
          "base_uri": "https://localhost:8080/"
        },
        "id": "yby57APfYwz5",
        "outputId": "ab9a85fe-1826-43fc-8b94-aacdae065d12"
      },
      "outputs": [
        {
          "name": "stdout",
          "output_type": "stream",
          "text": [
            "Addition: \n",
            " [[ 8 10 12]\n",
            " [14 16 18]]\n",
            "Subtraction: \n",
            " [[-6 -6 -6]\n",
            " [-6 -6 -6]]\n",
            "Multiplication: \n",
            " [[ 7 16 27]\n",
            " [40 55 72]]\n",
            "Division: \n",
            " [[0.14285714 0.25       0.33333333]\n",
            " [0.4        0.45454545 0.5       ]]\n",
            "Square root: \n",
            " [[1.         1.41421356 1.73205081]\n",
            " [2.         2.23606798 2.44948974]]\n",
            "Exponents: \n",
            " [[1.         1.41421356 1.73205081]\n",
            " [2.         2.23606798 2.44948974]]\n",
            "[[ 1  4  9]\n",
            " [16 25 36]]\n"
          ]
        }
      ],
      "source": [
        "# Element- wise operations\n",
        "\n",
        "print(\"Addition: \\n\", x + y)\n",
        "print(\"Subtraction: \\n\", x - y)\n",
        "\n",
        "print(\"Multiplication: \\n\", x * y)\n",
        "print(\"Division: \\n\", x / y)\n",
        "\n",
        "print(\"Square root: \\n\", np.sqrt(x))\n",
        "print(\"Exponents: \\n\", np.power(x, 0.5))\n",
        "print(np.power(x, 2))"
      ]
    },
    {
      "cell_type": "code",
      "execution_count": 18,
      "metadata": {
        "colab": {
          "base_uri": "https://localhost:8080/"
        },
        "id": "Xy1LO88dZ_Dp",
        "outputId": "b8ab9c11-2f03-42bf-e04a-a5e365d8e36f"
      },
      "outputs": [
        {
          "name": "stdout",
          "output_type": "stream",
          "text": [
            "np.dot(x, y.T) \n",
            " [[ 50  68]\n",
            " [122 167]]\n",
            "x.dot(y.T) \n",
            " [[ 50  68]\n",
            " [122 167]]\n",
            "x @ y.T \n",
            " [[ 50  68]\n",
            " [122 167]]\n"
          ]
        }
      ],
      "source": [
        "# Dot product:\n",
        "\n",
        "print(\"np.dot(x, y.T) \\n\", np.dot(x, y.T))\n",
        "print(\"x.dot(y.T) \\n\",x.dot(y.T))\n",
        "print(\"x @ y.T \\n\", x @ y.T)\n",
        "\n",
        "\n",
        "# And many more! Cross products, sin, cos, max, min, norm, etc. See the documentation"
      ]
    },
    {
      "cell_type": "markdown",
      "metadata": {
        "id": "m8uCP178bCyY"
      },
      "source": [
        "### Broadcasting\n",
        "\n",
        "Two numpy arrays don't need the exact same shape in order to perform operations together! The shape just needs to be compatible."
      ]
    },
    {
      "cell_type": "code",
      "execution_count": 19,
      "metadata": {
        "colab": {
          "base_uri": "https://localhost:8080/"
        },
        "id": "L7SuvldzbSUF",
        "outputId": "f8e92d41-ee6a-472f-eefa-c226307d14e5"
      },
      "outputs": [
        {
          "name": "stdout",
          "output_type": "stream",
          "text": [
            "x: \n",
            " [[ 1  2  3]\n",
            " [ 4  5  6]\n",
            " [ 7  8  9]\n",
            " [10 11 12]]\n",
            "y: \n",
            " [100 200 300]\n",
            "x + y: \n",
            " [[101 202 303]\n",
            " [104 205 306]\n",
            " [107 208 309]\n",
            " [110 211 312]]\n",
            "x - y: \n",
            " [[ -99 -198 -297]\n",
            " [ -96 -195 -294]\n",
            " [ -93 -192 -291]\n",
            " [ -90 -189 -288]]\n",
            "x * y: \n",
            " [[ 100  400  900]\n",
            " [ 400 1000 1800]\n",
            " [ 700 1600 2700]\n",
            " [1000 2200 3600]]\n",
            "x / y: \n",
            " [[0.01  0.01  0.01 ]\n",
            " [0.04  0.025 0.02 ]\n",
            " [0.07  0.04  0.03 ]\n",
            " [0.1   0.055 0.04 ]]\n"
          ]
        }
      ],
      "source": [
        "x = np.array([[1, 2, 3], [4, 5, 6], [7, 8, 9], [10, 11, 12]]) # shape: (4 , 3)\n",
        "y = np.array([100, 200, 300])                                 # shape: (3, )\n",
        "\n",
        "print(\"x: \\n\", x)\n",
        "print(\"y: \\n\", y)\n",
        "print(\"x + y: \\n\", x + y)\n",
        "print(\"x - y: \\n\",x - y)\n",
        "print(\"x * y: \\n\",x * y)\n",
        "print(\"x / y: \\n\",x / y)"
      ]
    },
    {
      "cell_type": "code",
      "execution_count": 20,
      "metadata": {
        "colab": {
          "base_uri": "https://localhost:8080/"
        },
        "id": "OTT_3Zeqbulc",
        "outputId": "853b8a0b-117a-4d60-8670-9426dc459290"
      },
      "outputs": [
        {
          "name": "stdout",
          "output_type": "stream",
          "text": [
            "x: \n",
            " [[ 1  2  3]\n",
            " [ 4  5  6]\n",
            " [ 7  8  9]\n",
            " [10 11 12]]\n",
            "y: \n",
            " [[100]\n",
            " [200]\n",
            " [300]\n",
            " [400]]\n",
            "x + y: \n",
            " [[101 102 103]\n",
            " [204 205 206]\n",
            " [307 308 309]\n",
            " [410 411 412]]\n",
            "x - y: \n",
            " [[ -99  -98  -97]\n",
            " [-196 -195 -194]\n",
            " [-293 -292 -291]\n",
            " [-390 -389 -388]]\n",
            "x * y: \n",
            " [[ 100  200  300]\n",
            " [ 800 1000 1200]\n",
            " [2100 2400 2700]\n",
            " [4000 4400 4800]]\n",
            "x / y: \n",
            " [[0.01       0.02       0.03      ]\n",
            " [0.02       0.025      0.03      ]\n",
            " [0.02333333 0.02666667 0.03      ]\n",
            " [0.025      0.0275     0.03      ]]\n"
          ]
        }
      ],
      "source": [
        "x = np.array([[1, 2, 3], [4, 5, 6], [7, 8, 9], [10, 11, 12]]) # shape: (4, 3)\n",
        "y = np.array([100, 200, 300, 400])                                    # shape: (4, )\n",
        "# NOT COMPATIBLE\n",
        "\n",
        "# print(\"x \\n\", x)\n",
        "# print(\"y \\n\", y)\n",
        "# print(\"x + y \\n\", x + y)\n",
        "# print(\"x - y \\n\",x - y)\n",
        "# print(\"x * y \\n\",x * y)\n",
        "# print(\"x -:- y \\n\",x / y)\n",
        "\n",
        "# operands could not be broadcast together with shapes (4,3) (4,)\n",
        "\n",
        "# The shape of the second array must be changed\n",
        "# (4, ) --> (4, 1)\n",
        "y = y[:, np.newaxis]\n",
        "print(\"x: \\n\", x)\n",
        "print(\"y: \\n\", y)\n",
        "print(\"x + y: \\n\", x + y)\n",
        "print(\"x - y: \\n\",x - y)\n",
        "print(\"x * y: \\n\",x * y)\n",
        "print(\"x / y: \\n\",x / y)"
      ]
    },
    {
      "cell_type": "markdown",
      "metadata": {
        "id": "5Pedpx1wcBtF"
      },
      "source": [
        "Full set of rules for broadcasting: https://numpy.org/doc/stable/user/basics.broadcasting.html."
      ]
    },
    {
      "cell_type": "markdown",
      "metadata": {
        "id": "Lj3bwbd5FlC0"
      },
      "source": [
        "# Part 2: Taichi\n",
        "\n",
        "Full documentation: https://docs.taichi-lang.org/"
      ]
    },
    {
      "cell_type": "markdown",
      "metadata": {
        "id": "6qlwDf2Az6SO"
      },
      "source": [
        "## Section 1: Function Decorators\n",
        "\n",
        "Taichi needs to decorate its functions with annotations, as a way to signal to Python that these functions need to be executed by Taichi (optimized, in parallel, etc.) rather than by Python.\n",
        "\n",
        "More info: https://docs.taichi-lang.org/docs/kernel_function"
      ]
    },
    {
      "cell_type": "markdown",
      "metadata": {
        "id": "cy4Eix-M1mpD"
      },
      "source": [
        "**`@ti.kernel`**: annotation for an **entry point** from Python into Taichi. It's called from a Python function, in order to use Taichi's computational optimizations.\n",
        "\n",
        "Example: `main()` function in `A1.py` is a **Python** function (it's not annotated), and it calls the `render()` function in `renderer.py`, which is annotated with `@ti.kernel`."
      ]
    },
    {
      "cell_type": "code",
      "execution_count": null,
      "metadata": {
        "id": "x945ZhXKkUmr"
      },
      "outputs": [],
      "source": [
        "# In A1.py\n",
        "\n",
        "def main():\n",
        "    scene_data = load_scene_data(SceneName.CORNELL_BOX)\n",
        "    renderer = A1Renderer(scene_data=scene_data, width=512, height=512)\n",
        "    window = ti.ui.Window(\"Interactive Renderer\", res=renderer.canvas.shape)\n",
        "    controller = CameraController(renderer.camera, window)\n",
        "\n",
        "    def control_panel(shader_mode): ...\n",
        "\n",
        "    while window.running:\n",
        "        controller.update()\n",
        "        control_panel(renderer.shade_mode[None])\n",
        "        renderer.render()\n",
        "        window.get_canvas().set_image(renderer.canvas)\n",
        "        window.show()"
      ]
    },
    {
      "cell_type": "code",
      "execution_count": null,
      "metadata": {
        "id": "4Z9xAga3kDZz"
      },
      "outputs": [],
      "source": [
        "  # In renderer.py\n",
        "\n",
        "  @ti.kernel\n",
        "  def render(self):\n",
        "      # Note the loop over `ti.ndrange`: it allows us to loop over all the pixels in parallel!\n",
        "\n",
        "      '''\n",
        "      This forloop will generate, every combination of (x, y) pairs from range (0, width) for x, and (0, height) for y\n",
        "      '''\n",
        "\n",
        "      for x,y in ti.ndrange(self.width, self.height):\n",
        "          primary_ray = self.camera.generate_ray(x,y)\n",
        "          color = self.shade_ray(primary_ray)\n",
        "          self.canvas[x,y] = color"
      ]
    },
    {
      "cell_type": "markdown",
      "metadata": {
        "id": "lS7d62Cc3T9o"
      },
      "source": [
        "**`@ti.func`**: annotation for a function that can **only** be used by Taichi functions (i.e. functions annotated with either `@ti.kernel` or `@ti.func`. Python functions **cannot** use these functions.\n",
        "\n",
        "Example: `generate_ray()` function in `camera.py`, called by `render()`, is annotated with `@ti.func`. If the annotation was removed, it would cause an error. If it was called by `main()` directly, it would also cause an error."
      ]
    },
    {
      "cell_type": "code",
      "execution_count": null,
      "metadata": {
        "id": "KEPs5rSSjq9i"
      },
      "outputs": [],
      "source": [
        "# In camera.py\n",
        "\n",
        "@ti.func\n",
        "def generate_ray(self, pixel_x: int, pixel_y: int, jitter: bool = False) -> Ray:\n",
        "    # TODO: Generate Ray"
      ]
    },
    {
      "cell_type": "markdown",
      "metadata": {
        "id": "00Gdi1oz5Wqw"
      },
      "source": [
        "In Taichi, functions **must include type hinting!** You must specify whether an argument is an int, float, etc., otherwise the function will throw an error."
      ]
    },
    {
      "cell_type": "markdown",
      "metadata": {
        "id": "h0WDY0yT7Snb"
      },
      "source": [
        "## Section 2: Taichi Datatypes\n",
        "\n",
        "On top of some Python types like `int` and `float`, Taichi defines its own datatypes for use in its functions.\n",
        "\n",
        "**NOTE**: Taichi functions are NOT compatible with Python's `str` and `list` types. Lists need to be converted into numpy arrays.\n",
        "\n",
        "`my_numbers = [[1, 2, 3], [4, 5, 6], [7, 8, 9], [10, 11, 12]]`\n",
        "\n",
        "`np_numbers = np.array(my_numbers)`\n",
        "\n",
        "**WARNING**: Taichi is *statically typed*, like Java or C++. If you're inside a function annotated with `@ti.func` or `@ti.kernel`, once you initialize a variable with some type, **you cannot change its type, and Taichi will automatically type cast whatever you wrote into the variable's original type.**\n",
        "\n",
        "More info: https://docs.taichi-lang.org/docs/type"
      ]
    },
    {
      "cell_type": "markdown",
      "metadata": {
        "id": "gWaclBMh2_J9"
      },
      "source": [
        "### Vectors and Matrices"
      ]
    },
    {
      "cell_type": "markdown",
      "metadata": {
        "id": "0ckct_ts-wf6"
      },
      "source": [
        "`ti.math` (abbreviated to `tm`) defines many useful math operations and types.\n",
        "\n",
        "**`tm.vec2`**, **`tm.vec3`**, **`tm.vec4`** are types that support vector operations. They also support *swizzling* (their elements can be accessed using `xyzw` or `rgba`, and new vectors will be created automatically).\n",
        "\n",
        "**`tm.mat2`**, **`tm.mat3`**, **`tm.mat4`** are types that support matrix operations.\n",
        "\n",
        "Most useful operations:\n",
        "*   cross product: `tm.cross`\n",
        "*   dot product: `tm.dot`\n",
        "*   vector normalization `tm.normalize`\n",
        "*   measuring distance: `tm.length` for vectors, `tm.distance` for two points\n",
        "*   basic math functions:  `tm.sin, tm.radians`, etc.\n",
        "*   matrix multiplication: `tm.mat2([[1, 2],[3, 4]]) @ tm.vec2(5, 6)`\n",
        "*   overloads of basic math operations (per-element): `+ - *`, etc.\n",
        "\n",
        "List of all the available functions: https://docs.taichi-lang.org/api/taichi/math/"
      ]
    },
    {
      "cell_type": "markdown",
      "metadata": {
        "id": "qhsw2nyIAsWh"
      },
      "source": [
        "![image.png](data:image/png;base64,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)"
      ]
    },
    {
      "cell_type": "markdown",
      "metadata": {
        "id": "a2CoAqo23FqX"
      },
      "source": [
        "### dataclass and data_oriented"
      ]
    },
    {
      "cell_type": "markdown",
      "metadata": {
        "id": "odWvLwVG9jAF"
      },
      "source": [
        "**`@ti.dataclass`** is a decorator for classes. This allows custom classes to be used by Taichi. If this class uses functions, they can be annotated with `@ti.func`, but NOT with `@ti.kernel`.\n",
        "\n",
        "More about functions associated with dataclasses: https://docs.taichi-lang.org/docs/dataclass#associate-functions-with-the-struct-type\n",
        "\n",
        "Example: `HitData` class, defined in `ray.py`"
      ]
    },
    {
      "cell_type": "code",
      "execution_count": null,
      "metadata": {
        "id": "TP2LxK2iizmu"
      },
      "outputs": [],
      "source": [
        "# In ray.py\n",
        "\n",
        "# Note that the attributes are defined outside an init function!\n",
        "@ti.dataclass\n",
        "class HitData:\n",
        "    is_hit: bool\n",
        "    is_backfacing: bool\n",
        "    triangle_id: int\n",
        "    distance: float\n",
        "    barycentric_coords: tm.vec2\n",
        "    normal: tm.vec3\n",
        "    material_id: int"
      ]
    },
    {
      "cell_type": "markdown",
      "metadata": {
        "id": "AqSY0U2y3X4B"
      },
      "source": [
        "\n",
        "If your custom class needs to be accessed by Python (i.e. have a kernel), then the class must be annotated with **`@ti.data_oriented`**.\n",
        "\n",
        "Example: `Camera` class, defined in `camera.py`"
      ]
    },
    {
      "cell_type": "code",
      "execution_count": null,
      "metadata": {
        "id": "WvmqdtuEjCPr"
      },
      "outputs": [],
      "source": [
        "# In camera.py\n",
        "\n",
        "@ti.data_oriented\n",
        "class Camera:\n",
        "\n",
        "    def __init__(self, width: int = 128, height: int = 128) -> None: ...\n",
        "\n",
        "    def set_camera_parameters(self, eye: tm.vec3 = None,\n",
        "                              at: tm.vec3 = None, up: tm.vec3 = None,\n",
        "                              fov: float = None ) -> None: ...\n",
        "\n",
        "    # The class is allowed to have a kernel!\n",
        "    @ti.kernel\n",
        "    def compute_matrix(self):\n",
        "        # TODO: Compute Camera to World Matrix"
      ]
    },
    {
      "cell_type": "markdown",
      "metadata": {
        "id": "87bovY0lDEyD"
      },
      "source": [
        "A `data_oriented` class needs an `__init__` in order to define the attributes. All attributes need to be declared beforehand (even if they're not initialized). All these attributes need to be declared as fields:"
      ]
    },
    {
      "cell_type": "code",
      "execution_count": null,
      "metadata": {
        "id": "5am808Z9-Wfd"
      },
      "outputs": [],
      "source": [
        "# In camera.py\n",
        "\n",
        "def __init__(self, width: int = 128, height: int = 128) -> None:\n",
        "\n",
        "    # These two attributes get immediately filled.\n",
        "    # No need to explicitly allocate space for them\n",
        "    self.width = width\n",
        "    self.height = height\n",
        "\n",
        "\n",
        "    # This attribute is just a float/int (a \"0D\" array, i.e. not an array)\n",
        "    # It will be filled later, but the memory needs to be allocated first.\n",
        "    self.fov = ti.field(shape=(), dtype=float)\n",
        "\n",
        "    # If you want to access / change these attributes:\n",
        "    self.fov[None] = 12.0\n",
        "\n",
        "\n",
        "    # This attribute is a 0D array of vectors (i.e. one vector)\n",
        "    # Specify the dimention of the VECTORS with n\n",
        "    # Specify the shape of the ARRAY with shape\n",
        "    self.eye = ti.Vector.field(n=3, shape=(), dtype=float)\n",
        "\n",
        "    # This vector is compatible with tm.vec3\n",
        "    self.eye[None] = tm.vec3([0, 0, 5])\n",
        "\n",
        "\n",
        "    # This attribute is a 0D array of matrices (i.e. one matrix)\n",
        "    # n is the number of rows, m is the number of columns\n",
        "    self.camera_to_world = ti.Matrix.field(n=4, m=4, shape=(), dtype=float)\n",
        "\n",
        "    # This matrix is compatible with tm.mat4\n",
        "    self.camera_to_world[None] = tm.mat4([[0,0,0,0], [1,1,1,1], [2,2,2,2], [3,3,3,3]])\n",
        "\n",
        "    # Specific elements can also be accessed\n",
        "    self.camera_to_world[None][1, 2] = 6\n"
      ]
    },
    {
      "cell_type": "markdown",
      "metadata": {
        "id": "V2df4cgTe7R_"
      },
      "source": [
        "More info about fields: https://docs.taichi-lang.org/docs/field"
      ]
    },
    {
      "cell_type": "markdown",
      "metadata": {
        "id": "oIIne5JM4W_x"
      },
      "source": [
        "## Section 3: Taichi Math examples"
      ]
    },
    {
      "cell_type": "code",
      "execution_count": null,
      "metadata": {
        "colab": {
          "base_uri": "https://localhost:8080/"
        },
        "id": "w27DzR294uXR",
        "outputId": "b18df0ca-ea67-4475-9e5c-0acce6aa8196"
      },
      "outputs": [
        {
          "name": "stdout",
          "output_type": "stream",
          "text": [
            "Collecting taichi\n",
            "  Downloading taichi-1.7.2-cp310-cp310-manylinux_2_27_x86_64.whl.metadata (12 kB)\n",
            "Requirement already satisfied: numpy in /usr/local/lib/python3.10/dist-packages (from taichi) (1.26.4)\n",
            "Collecting colorama (from taichi)\n",
            "  Downloading colorama-0.4.6-py2.py3-none-any.whl.metadata (17 kB)\n",
            "Collecting dill (from taichi)\n",
            "  Downloading dill-0.3.8-py3-none-any.whl.metadata (10 kB)\n",
            "Requirement already satisfied: rich in /usr/local/lib/python3.10/dist-packages (from taichi) (13.8.0)\n",
            "Requirement already satisfied: markdown-it-py>=2.2.0 in /usr/local/lib/python3.10/dist-packages (from rich->taichi) (3.0.0)\n",
            "Requirement already satisfied: pygments<3.0.0,>=2.13.0 in /usr/local/lib/python3.10/dist-packages (from rich->taichi) (2.16.1)\n",
            "Requirement already satisfied: mdurl~=0.1 in /usr/local/lib/python3.10/dist-packages (from markdown-it-py>=2.2.0->rich->taichi) (0.1.2)\n",
            "Downloading taichi-1.7.2-cp310-cp310-manylinux_2_27_x86_64.whl (55.0 MB)\n",
            "\u001b[2K   \u001b[90m━━━━━━━━━━━━━━━━━━━━━━━━━━━━━━━━━━━━━━━━\u001b[0m \u001b[32m55.0/55.0 MB\u001b[0m \u001b[31m18.8 MB/s\u001b[0m eta \u001b[36m0:00:00\u001b[0m\n",
            "\u001b[?25hDownloading colorama-0.4.6-py2.py3-none-any.whl (25 kB)\n",
            "Downloading dill-0.3.8-py3-none-any.whl (116 kB)\n",
            "\u001b[2K   \u001b[90m━━━━━━━━━━━━━━━━━━━━━━━━━━━━━━━━━━━━━━━━\u001b[0m \u001b[32m116.3/116.3 kB\u001b[0m \u001b[31m7.9 MB/s\u001b[0m eta \u001b[36m0:00:00\u001b[0m\n",
            "\u001b[?25hInstalling collected packages: dill, colorama, taichi\n",
            "Successfully installed colorama-0.4.6 dill-0.3.8 taichi-1.7.2\n"
          ]
        }
      ],
      "source": [
        "# %pip install taichi"
      ]
    },
    {
      "cell_type": "code",
      "execution_count": 22,
      "metadata": {
        "colab": {
          "base_uri": "https://localhost:8080/"
        },
        "id": "cBeYul4g4z1E",
        "outputId": "28765e80-139c-45e3-8fc4-185c6b54cd59"
      },
      "outputs": [
        {
          "name": "stdout",
          "output_type": "stream",
          "text": [
            "[Taichi] version 1.7.1, llvm 15.0.4, commit 0f143b2f, linux, python 3.10.14\n"
          ]
        },
        {
          "name": "stderr",
          "output_type": "stream",
          "text": [
            "[I 09/05/24 07:44:58.954 7861] [shell.py:_shell_pop_print@23] Graphical python shell detected, using wrapped sys.stdout\n"
          ]
        }
      ],
      "source": [
        "import taichi as ti\n",
        "import taichi.math as tm"
      ]
    },
    {
      "cell_type": "markdown",
      "metadata": {
        "id": "ZWVR3qaT-K4F"
      },
      "source": [
        "### Vector Math"
      ]
    },
    {
      "cell_type": "code",
      "execution_count": 23,
      "metadata": {
        "colab": {
          "base_uri": "https://localhost:8080/"
        },
        "id": "snjYfofr44oG",
        "outputId": "1d8b3f92-e985-43ac-9075-860a4f4590bc"
      },
      "outputs": [
        {
          "name": "stdout",
          "output_type": "stream",
          "text": [
            "x: \n",
            " [1. 2. 3.]\n",
            "y: \n",
            " [-2.  4. -8.]\n",
            "x + y: \n",
            " [-1.  6. -5.]\n",
            "x - y: \n",
            " [ 3. -2. 11.]\n",
            "x * y: \n",
            " [ -2.   8. -24.]\n",
            "x / y: \n",
            " [-0.5    0.5   -0.375]\n"
          ]
        }
      ],
      "source": [
        "x = tm.vec3([1, 2, 3])\n",
        "y = tm.vec3([-2, 4, -8])\n",
        "\n",
        "print(\"x: \\n\", x)\n",
        "print(\"y: \\n\", y)\n",
        "print(\"x + y: \\n\", x + y)\n",
        "print(\"x - y: \\n\",x - y)\n",
        "print(\"x * y: \\n\",x * y)\n",
        "print(\"x / y: \\n\",x / y)\n",
        "\n",
        "# this crashes! can't called taichi functions inside a python scope\n",
        "# print(\"x dot y: \\n\", tm.dot(x, y))"
      ]
    },
    {
      "cell_type": "code",
      "execution_count": 24,
      "metadata": {
        "colab": {
          "base_uri": "https://localhost:8080/"
        },
        "id": "KlXATBC08kO_",
        "outputId": "23173f9b-25fa-4620-e587-dcfd921d4bae"
      },
      "outputs": [
        {
          "name": "stdout",
          "output_type": "stream",
          "text": [
            "[Taichi] Starting on arch=x64\n",
            "x dot y: \n",
            " -18.0\n",
            "x cross y: \n",
            " [-28.   2.   8.]\n",
            "(x + y)/||x+y||: \n",
            " [-0.12700012  0.7620008  -0.63500065]\n"
          ]
        }
      ],
      "source": [
        "# solution: call taichi math operations inside a kernel\n",
        "ti.init(arch=ti.cpu)\n",
        "\n",
        "x = tm.vec3([1, 2, 3])\n",
        "y = tm.vec3([-2, 4, -8])\n",
        "\n",
        "@ti.kernel\n",
        "def dot_prod(x: tm.vec3, y: tm.vec3)->ti.f32:\n",
        "    return tm.dot(x, y)\n",
        "print(\"x dot y: \\n\", dot_prod(x, y))\n",
        "\n",
        "@ti.kernel\n",
        "def cross_prod(x: tm.vec3, y: tm.vec3)->tm.vec3:\n",
        "    return tm.cross(x, y)\n",
        "print(\"x cross y: \\n\",cross_prod(x, y))\n",
        "\n",
        "@ti.kernel\n",
        "def add_normalize_vecs(x: tm.vec3, y: tm.vec3)->tm.vec3:\n",
        "    return tm.normalize(x+y)\n",
        "print(\"(x + y)/||x+y||: \\n\",add_normalize_vecs(x, y))\n",
        "\n"
      ]
    },
    {
      "cell_type": "markdown",
      "metadata": {
        "id": "Otmj2Bwl-OEW"
      },
      "source": [
        "### Matrix Ops"
      ]
    },
    {
      "cell_type": "code",
      "execution_count": 25,
      "metadata": {
        "colab": {
          "base_uri": "https://localhost:8080/"
        },
        "id": "_gSoDKJU-Dma",
        "outputId": "c722fcce-f4d6-4707-915e-725c7d384b31"
      },
      "outputs": [
        {
          "name": "stdout",
          "output_type": "stream",
          "text": [
            "matrix_xyz \n",
            " [[ 1.  2.  3.]\n",
            " [-2.  4. -8.]\n",
            " [-1.  1.  0.]]\n",
            "matrix_xyz.T \n",
            " [[ 1. -2. -1.]\n",
            " [ 2.  4.  1.]\n",
            " [ 3. -8.  0.]]\n",
            "matrix_xyz Manual\n",
            " [[ 1. -2. -1.]\n",
            " [ 2.  4.  1.]\n",
            " [ 3. -8.  0.]]\n"
          ]
        }
      ],
      "source": [
        "x = tm.vec3([1, 2, 3])\n",
        "y = tm.vec3([-2, 4, -8])\n",
        "z = tm.vec3([-1, 1, 0])\n",
        "\n",
        "# you can initialize a matrix from vectors\n",
        "matrix_xyz = tm.mat3([x, y, z])\n",
        "print(\"matrix_xyz \\n\",matrix_xyz)\n",
        "print(\"matrix_xyz.T \\n\",matrix_xyz.transpose())\n",
        "\n",
        "# you can also initialize it from vectors by manually populating\n",
        "# useful when you need to construct a specific by packing different vectors in different order (camera to world matrix)\n",
        "matrix_xyz = tm.mat3(\n",
        "            [x.x,y.x,z.x],\n",
        "            [x.y,y.y,z.y],\n",
        "            [x.z,y.z,z.z]\n",
        "            )\n",
        "\n",
        "print(\"matrix_xyz Manual\\n\",matrix_xyz)"
      ]
    },
    {
      "cell_type": "code",
      "execution_count": 26,
      "metadata": {
        "colab": {
          "base_uri": "https://localhost:8080/"
        },
        "id": "5-Oy1ZWk_uD_",
        "outputId": "692512b8-d777-4003-e62f-9a9f5faeab09"
      },
      "outputs": [
        {
          "name": "stdout",
          "output_type": "stream",
          "text": [
            "Matrix Vector mult \n",
            " [ -2.   4. -38.]\n",
            "Matrix Matrix mult \n",
            " [[ -6.  -2.  -3.]\n",
            " [ 13.   4.   2.]\n",
            " [-13. -38. -11.]]\n"
          ]
        }
      ],
      "source": [
        "\n",
        "print(\"Matrix Vector mult \\n\",matrix_xyz @ y)\n",
        "print(\"Matrix Matrix mult \\n\",matrix_xyz @ matrix_xyz)"
      ]
    },
    {
      "cell_type": "markdown",
      "metadata": {
        "id": "lcrGf3ucBqeB"
      },
      "source": [
        "### Trig Ops"
      ]
    },
    {
      "cell_type": "code",
      "execution_count": null,
      "metadata": {
        "id": "0kORHee4Bu4f"
      },
      "outputs": [],
      "source": [
        "# trig functions are part of the tm class, need a taichi kernel!\n",
        "# tm.radians(60) <-- crashes"
      ]
    },
    {
      "cell_type": "code",
      "execution_count": 27,
      "metadata": {
        "colab": {
          "base_uri": "https://localhost:8080/"
        },
        "id": "RpNGMP-DCHJu",
        "outputId": "75326623-18e2-4027-8eb5-58b5a927f60f"
      },
      "outputs": [
        {
          "name": "stdout",
          "output_type": "stream",
          "text": [
            "pi \n",
            " 180.0\n",
            "tan 30 degrees in radians \n",
            " 0.5773502588272095\n"
          ]
        }
      ],
      "source": [
        "@ti.kernel\n",
        "def degree_pi()->ti.f32:\n",
        "  return tm.degrees(tm.pi)\n",
        "print(\"pi \\n\", degree_pi())\n",
        "\n",
        "\n",
        "@ti.kernel\n",
        "def tan()->ti.f32:\n",
        "  return tm.tan(tm.radians(60/2))\n",
        "print(\"tan 30 degrees in radians \\n\", tan())"
      ]
    },
    {
      "cell_type": "markdown",
      "metadata": {},
      "source": [
        "### Branching\n",
        "\n",
        "\"Currently, Taichi only supports one return statement, and the return statement must not appear in scopes inside non-static if/for/while.\""
      ]
    },
    {
      "cell_type": "code",
      "execution_count": 37,
      "metadata": {},
      "outputs": [
        {
          "ename": "TaichiSyntaxError",
          "evalue": "\nFile \"/tmp/ipykernel_7861/2151365856.py\", line 4, in branching:\n    return True\n    ^^^^^^^^^^^\nReturn inside non-static if/for is not supported (<string>)",
          "output_type": "error",
          "traceback": [
            "Traceback \u001b[0;36m(most recent call last)\u001b[0m:\n",
            "\u001b[0m  File \u001b[1;32m~/anaconda3/envs/taichi_env/lib/python3.10/site-packages/IPython/core/interactiveshell.py:3577\u001b[0m in \u001b[1;35mrun_code\u001b[0m\n    exec(code_obj, self.user_global_ns, self.user_ns)\u001b[0m\n",
            "\u001b[0m  Cell \u001b[1;32mIn[37], line 8\u001b[0m\n    print(\"branching:  \\n\", branching(1))\u001b[0m\n",
            "\u001b[0;36m  File \u001b[0;32m~/anaconda3/envs/taichi_env/lib/python3.10/site-packages/taichi/lang/kernel_impl.py:1117\u001b[0;36m in \u001b[0;35mwrapped\u001b[0;36m\n\u001b[0;31m    raise type(e)(\"\\n\" + str(e)) from None\u001b[0;36m\n",
            "\u001b[0;36m  File \u001b[0;32m<string>\u001b[0;36m\u001b[0m\n\u001b[0;31mTaichiSyntaxError\u001b[0m\u001b[0;31m:\u001b[0m \nFile \"/tmp/ipykernel_7861/2151365856.py\", line 4, in branching:\n    return True\n    ^^^^^^^^^^^\nReturn inside non-static if/for is not supported\n"
          ]
        }
      ],
      "source": [
        "@ti.kernel\n",
        "def branching(x: ti.f32)->bool:\n",
        "  if x > 0:\n",
        "    return True\n",
        "  else:\n",
        "    return False\n",
        "\n",
        "print(\"branching:  \\n\", branching(1))"
      ]
    },
    {
      "cell_type": "code",
      "execution_count": 38,
      "metadata": {},
      "outputs": [
        {
          "name": "stdout",
          "output_type": "stream",
          "text": [
            "branching:  \n",
            " 1\n",
            "branching:  \n",
            " 1\n"
          ]
        }
      ],
      "source": [
        "@ti.kernel\n",
        "def branching(x: ti.f32)->bool:\n",
        "    res = False\n",
        "    if x > 0:\n",
        "        res = True\n",
        "    else:\n",
        "        res = False\n",
        "    return res\n",
        " \n",
        "\n",
        "\n",
        "print(\"branching:  \\n\", branching(1))\n",
        "print(\"branching:  \\n\", branching(1))"
      ]
    },
    {
      "cell_type": "markdown",
      "metadata": {
        "id": "PGhVWZ7jELKg"
      },
      "source": [
        "## Taichi Architectures"
      ]
    },
    {
      "cell_type": "markdown",
      "metadata": {
        "id": "Oqf3oxXtEShz"
      },
      "source": [
        "At the beginning of every main script, you will see a `ti.init()` call. This is how we initialize the taichi compiler. The important part of this call is the `arch` argument. This specifies to the compiler, which hardware acceleration to use. ex: `ti.init(arch=ti.gpu)`\n",
        "\n",
        "- if `ti.gpu` is selected, taichi will automatically detect the GPU backend for you\n",
        "  - if you have an *NVIDIA* gpu with cuda enabled, taichi will default to `ti.cuda`\n",
        "  - if you have a Mac with an M-series chip, taichi will default to `ti.metal`\n",
        "  - if you don't have either, taichi will simply detect the best architecture ex: `ti.vulkan`\n",
        "- if none of the GPU options are available, taichi will default to `ti.cpu`\n",
        "\n",
        "Generally, you will always keep the setting as `ti.gpu`. However, if you *do* have an nvidia GPU but not enough VRAM, taichi will still pick `ti.cuda`, but then crash, and tell you that you do not have enough resources. In this case, you can manually try another architecture."
      ]
    },
    {
      "cell_type": "markdown",
      "metadata": {
        "id": "5Bku_pbn4dn0"
      },
      "source": []
    }
  ],
  "metadata": {
    "colab": {
      "provenance": []
    },
    "kernelspec": {
      "display_name": "Python 3",
      "name": "python3"
    },
    "language_info": {
      "codemirror_mode": {
        "name": "ipython",
        "version": 3
      },
      "file_extension": ".py",
      "mimetype": "text/x-python",
      "name": "python",
      "nbconvert_exporter": "python",
      "pygments_lexer": "ipython3",
      "version": "3.10.14"
    }
  },
  "nbformat": 4,
  "nbformat_minor": 0
}
